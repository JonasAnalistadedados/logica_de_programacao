{
 "cells": [
  {
   "cell_type": "markdown",
   "id": "dbda530f-12a2-465f-a0ad-34c810ac42a5",
   "metadata": {},
   "source": [
    "Condicional IF"
   ]
  },
  {
   "cell_type": "code",
   "execution_count": null,
   "id": "2a1751d7-a0d9-40b4-8fb0-43c0211e44c3",
   "metadata": {},
   "outputs": [],
   "source": [
    "# if ' se '"
   ]
  },
  {
   "cell_type": "code",
   "execution_count": 1,
   "id": "96cd6281-e67c-4c1f-9994-344da1e77a9d",
   "metadata": {},
   "outputs": [
    {
     "name": "stdout",
     "output_type": "stream",
     "text": [
      "verdade\n"
     ]
    }
   ],
   "source": [
    "if 5 < 10:\n",
    "    print(\"verdade\")"
   ]
  },
  {
   "cell_type": "code",
   "execution_count": 3,
   "id": "7c5b1bbf-e7fa-47ad-831c-cf9adee102b5",
   "metadata": {},
   "outputs": [
    {
     "name": "stdout",
     "output_type": "stream",
     "text": [
      "O numero 1 é o maior numero\n"
     ]
    }
   ],
   "source": [
    "# if/else 'se' 'se não'\n",
    "num1 = 10\n",
    "num2 = 5\n",
    "if num1 > num2:\n",
    "    print(\"O numero 1 é o maior numero\")\n",
    "else:\n",
    "    print(\"O numero 2 é o maior numero\")"
   ]
  },
  {
   "cell_type": "code",
   "execution_count": 4,
   "id": "9168199e-441d-4b6c-ae2e-9085740bad44",
   "metadata": {},
   "outputs": [
    {
     "name": "stdout",
     "output_type": "stream",
     "text": [
      "Os numeros são iguais\n"
     ]
    }
   ],
   "source": [
    "# if, elif, else 'se' , 'se nao se', ' se não'\n",
    "num1 = 10\n",
    "num2 = 10\n",
    "if num1 > num2:\n",
    "    print(\"O numero 1 é o maior numero\")\n",
    "elif num1 < num2:\n",
    "    print(\"O numero 2 é o maior numero\")\n",
    "else:\n",
    "    print(\"Os numeros são iguais\")"
   ]
  },
  {
   "cell_type": "code",
   "execution_count": 5,
   "id": "4e293b08-bea4-4e88-ad82-44d48edc119b",
   "metadata": {},
   "outputs": [
    {
     "name": "stdout",
     "output_type": "stream",
     "text": [
      "O num1 não é o maior numero\n"
     ]
    }
   ],
   "source": [
    "num1 = 5\n",
    "num2 = 10\n",
    "num3 = 20\n",
    "if (num1 > num2) and (num1 > num3):\n",
    "    print(\"O num1 é o maior numero\")\n",
    "else:\n",
    "    print(\"O num1 não é o maior numero\")"
   ]
  },
  {
   "cell_type": "code",
   "execution_count": null,
   "id": "3dbaae9d-5385-4d54-a14c-361741ae6d60",
   "metadata": {},
   "outputs": [],
   "source": []
  },
  {
   "cell_type": "code",
   "execution_count": null,
   "id": "a64554f8-af27-4f4d-abc4-6b65b750010e",
   "metadata": {},
   "outputs": [],
   "source": []
  },
  {
   "cell_type": "code",
   "execution_count": null,
   "id": "e876be38-a8d9-4860-ac9d-7dc189107b3f",
   "metadata": {},
   "outputs": [],
   "source": []
  },
  {
   "cell_type": "code",
   "execution_count": null,
   "id": "3cc470d3-06aa-46f7-a0fd-6f0ccd14357e",
   "metadata": {},
   "outputs": [],
   "source": []
  },
  {
   "cell_type": "code",
   "execution_count": null,
   "id": "36ce8219-caac-4800-9c17-7a4148fce5dd",
   "metadata": {},
   "outputs": [],
   "source": []
  },
  {
   "cell_type": "code",
   "execution_count": null,
   "id": "fb37fbf2-9c80-4aa2-a6bd-178be4880915",
   "metadata": {},
   "outputs": [],
   "source": []
  },
  {
   "cell_type": "code",
   "execution_count": null,
   "id": "6b2d3295-9afc-425e-a289-ddb3ac874591",
   "metadata": {},
   "outputs": [],
   "source": []
  },
  {
   "cell_type": "code",
   "execution_count": null,
   "id": "8351d9c2-6dd7-4c92-9cf7-b7e6eeb5572e",
   "metadata": {},
   "outputs": [],
   "source": []
  },
  {
   "cell_type": "code",
   "execution_count": null,
   "id": "7c0d59b4-66fc-4103-a905-c3c102e29acf",
   "metadata": {},
   "outputs": [],
   "source": []
  },
  {
   "cell_type": "code",
   "execution_count": null,
   "id": "852a87c8-9de1-458c-bf69-3eabb62390e5",
   "metadata": {},
   "outputs": [],
   "source": []
  },
  {
   "cell_type": "code",
   "execution_count": null,
   "id": "f4e41c9a-e8c1-4b10-bdc9-cea59aeb54f2",
   "metadata": {},
   "outputs": [],
   "source": []
  },
  {
   "cell_type": "code",
   "execution_count": null,
   "id": "5fd9f326-d286-4469-9a6f-387686279bee",
   "metadata": {},
   "outputs": [],
   "source": []
  },
  {
   "cell_type": "code",
   "execution_count": null,
   "id": "fbd8649b-1e75-4ccb-9150-23fe85e33afa",
   "metadata": {},
   "outputs": [],
   "source": []
  },
  {
   "cell_type": "code",
   "execution_count": null,
   "id": "c721b56f-6bb0-4cc4-8f4a-169928caa43f",
   "metadata": {},
   "outputs": [],
   "source": []
  },
  {
   "cell_type": "code",
   "execution_count": null,
   "id": "1de13575-1cf1-4b92-bfcc-25c18a2a3e73",
   "metadata": {},
   "outputs": [],
   "source": []
  }
 ],
 "metadata": {
  "kernelspec": {
   "display_name": "Python 3 (ipykernel)",
   "language": "python",
   "name": "python3"
  },
  "language_info": {
   "codemirror_mode": {
    "name": "ipython",
    "version": 3
   },
   "file_extension": ".py",
   "mimetype": "text/x-python",
   "name": "python",
   "nbconvert_exporter": "python",
   "pygments_lexer": "ipython3",
   "version": "3.11.7"
  }
 },
 "nbformat": 4,
 "nbformat_minor": 5
}
