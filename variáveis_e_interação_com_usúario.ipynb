{
 "cells": [
  {
   "cell_type": "markdown",
   "id": "3d5a2266-d9ec-489f-8218-de0bcd712a83",
   "metadata": {},
   "source": [
    "# Python é uma linguagem de alto nível"
   ]
  },
  {
   "cell_type": "markdown",
   "id": "dc7405d8-2a51-4ca3-b3dd-4bfff95d28c7",
   "metadata": {},
   "source": [
    "## Tipos de variáveis\n",
    "- int (inteiro) , num = 10\n",
    "- float (real)  , num = 10.5\n",
    "- string (texto), nome = \"Jonas\""
   ]
  },
  {
   "cell_type": "markdown",
   "id": "b7b218cd-dfa4-4bc5-9101-52608484c791",
   "metadata": {},
   "source": [
    "## Vizualização de variáveis e texto"
   ]
  },
  {
   "cell_type": "code",
   "execution_count": 1,
   "id": "ac43c780-e904-42a8-910f-280b1a97bc46",
   "metadata": {},
   "outputs": [
    {
     "name": "stdout",
     "output_type": "stream",
     "text": [
      "conhecendo o comando print\n",
      "8\n"
     ]
    }
   ],
   "source": [
    "print(\"conhecendo o comando print\")\n",
    "\n",
    "x = 8\n",
    "print(x)"
   ]
  },
  {
   "cell_type": "code",
   "execution_count": 2,
   "id": "72a6e7e9-f6c1-4bff-bd64-0e8b87309f8a",
   "metadata": {},
   "outputs": [
    {
     "name": "stdout",
     "output_type": "stream",
     "text": [
      "18\n"
     ]
    }
   ],
   "source": [
    "y = 10\n",
    "soma = x + y\n",
    "print(soma)"
   ]
  },
  {
   "cell_type": "code",
   "execution_count": 3,
   "id": "7bcb5b28-fe1c-43cf-b960-ab7a5cc5ea5a",
   "metadata": {},
   "outputs": [
    {
     "name": "stdout",
     "output_type": "stream",
     "text": [
      "Rafael\n"
     ]
    }
   ],
   "source": [
    "nome = \"Rafael\"\n",
    "print(nome)"
   ]
  },
  {
   "cell_type": "code",
   "execution_count": 5,
   "id": "81d6bf9a-419b-4921-8ed7-3c9f6488d15a",
   "metadata": {},
   "outputs": [
    {
     "name": "stdout",
     "output_type": "stream",
     "text": [
      "O valor de x é 5\n"
     ]
    }
   ],
   "source": [
    "x = 5\n",
    "print(\"O valor de x é\",x)"
   ]
  },
  {
   "cell_type": "code",
   "execution_count": 10,
   "id": "3de9fc28-ec92-4c22-b0a8-13538a273c74",
   "metadata": {},
   "outputs": [
    {
     "name": "stdout",
     "output_type": "stream",
     "text": [
      "O valor de x é 5 e o dobro de x é 10\n"
     ]
    }
   ],
   "source": [
    "print(\"O valor de x é\", x , \"e o dobro de x é\", x * 2)"
   ]
  },
  {
   "cell_type": "code",
   "execution_count": 12,
   "id": "04607060-5848-4f4a-b893-92f5c24cce52",
   "metadata": {},
   "outputs": [
    {
     "name": "stdout",
     "output_type": "stream",
     "text": [
      "Eu Rafael tirei 5 na prova de Python\n"
     ]
    }
   ],
   "source": [
    "print(\"Eu\",nome, \"tirei\", x, \"na prova de Python\")"
   ]
  },
  {
   "cell_type": "code",
   "execution_count": 13,
   "id": "3cabb8a4-4d4d-4da7-9fd3-b85e37d72da4",
   "metadata": {},
   "outputs": [
    {
     "name": "stdout",
     "output_type": "stream",
     "text": [
      "declarar variáveis na mesma linha: 10 15\n"
     ]
    }
   ],
   "source": [
    "y = 10; z = 20 + x - y\n",
    "print(\"declarar variáveis na mesma linha:\",y,z)"
   ]
  },
  {
   "cell_type": "markdown",
   "id": "f46204f3-30bf-4e66-938a-985e72a326af",
   "metadata": {},
   "source": [
    "# Type (Tipos)"
   ]
  },
  {
   "cell_type": "code",
   "execution_count": 16,
   "id": "27ceca74-d65d-4a65-9f8c-3c3e183dd6ef",
   "metadata": {},
   "outputs": [
    {
     "name": "stdout",
     "output_type": "stream",
     "text": [
      "x <class 'int'>\n"
     ]
    }
   ],
   "source": [
    "x = 10\n",
    "type(x)\n",
    "print(\"x\", type(x))"
   ]
  },
  {
   "cell_type": "code",
   "execution_count": 17,
   "id": "d8ada5bc-7612-4bcb-87ef-352aec809887",
   "metadata": {},
   "outputs": [
    {
     "name": "stdout",
     "output_type": "stream",
     "text": [
      "Nome, <class 'str'>\n"
     ]
    }
   ],
   "source": [
    "nome = \"Jonas\"\n",
    "print(\"Nome,\", type(nome))"
   ]
  },
  {
   "cell_type": "code",
   "execution_count": 20,
   "id": "c20d0a44-d9a2-4beb-b528-9ff57b17650d",
   "metadata": {},
   "outputs": [
    {
     "name": "stdout",
     "output_type": "stream",
     "text": [
      "num <class 'str'>\n",
      "num_convert <class 'int'>\n"
     ]
    }
   ],
   "source": [
    "num = \"100\"\n",
    "num_convert = int(num) #Converter uma variável para innteiro\n",
    "print(\"num\", type(num))\n",
    "print(\"num_convert\", type(num_convert))"
   ]
  },
  {
   "cell_type": "code",
   "execution_count": 21,
   "id": "e843687c-58b5-4e23-9143-ac6e05549b75",
   "metadata": {},
   "outputs": [
    {
     "name": "stdout",
     "output_type": "stream",
     "text": [
      "num_float <class 'float'>\n"
     ]
    }
   ],
   "source": [
    "num_float = float(num)\n",
    "print(\"num_float\", type(num_float))"
   ]
  },
  {
   "cell_type": "markdown",
   "id": "48578fd6-d661-44e8-a399-ad7aebc46b63",
   "metadata": {},
   "source": [
    "# Comando input\n",
    "- Armazenar a informação digitada pelo usúario em uma variável\n",
    "- O dado armazenado sempre será um texto"
   ]
  },
  {
   "cell_type": "code",
   "execution_count": 23,
   "id": "14628492-0f29-4612-885e-d8a73bd81435",
   "metadata": {},
   "outputs": [
    {
     "name": "stdin",
     "output_type": "stream",
     "text": [
      "Digite um nome de usúario:  Jonathas\n"
     ]
    },
    {
     "name": "stdout",
     "output_type": "stream",
     "text": [
      "Jonathas\n"
     ]
    }
   ],
   "source": [
    "nome = input(\"Digite um nome de usúario: \") #Aguarda o usúario a digitar algo\n",
    "print(nome)"
   ]
  },
  {
   "cell_type": "code",
   "execution_count": 24,
   "id": "b45429c6-b6e4-4505-bdfe-70636b0f3a47",
   "metadata": {},
   "outputs": [
    {
     "name": "stdin",
     "output_type": "stream",
     "text": [
      "Digite a nota:  5\n"
     ]
    },
    {
     "name": "stdout",
     "output_type": "stream",
     "text": [
      "Jonathas sua nota foi: 5\n"
     ]
    }
   ],
   "source": [
    "valor = input(\"Digite a nota: \")\n",
    "print(nome,\"sua nota foi:\", valor)"
   ]
  },
  {
   "cell_type": "code",
   "execution_count": 26,
   "id": "4d4eb827-3d50-403f-8758-b3380923fb03",
   "metadata": {},
   "outputs": [
    {
     "name": "stdin",
     "output_type": "stream",
     "text": [
      "Digite o valor do produto:  19\n"
     ]
    },
    {
     "name": "stdout",
     "output_type": "stream",
     "text": [
      "19\n"
     ]
    }
   ],
   "source": [
    "valor = input(\"Digite o valor do produto: \")\n",
    "print(valor)"
   ]
  },
  {
   "cell_type": "code",
   "execution_count": 35,
   "id": "a4e1d56b-21e7-4c66-9dfc-0146d23e6044",
   "metadata": {},
   "outputs": [
    {
     "name": "stdout",
     "output_type": "stream",
     "text": [
      "14\n"
     ]
    }
   ],
   "source": [
    "valor_convert = int(valor)\n",
    "desconto =(valor_convert) - 5\n",
    "print(desconto)"
   ]
  },
  {
   "cell_type": "code",
   "execution_count": 36,
   "id": "62833438-0118-49ed-b501-63373ed59584",
   "metadata": {},
   "outputs": [
    {
     "name": "stdout",
     "output_type": "stream",
     "text": [
      "14\n"
     ]
    }
   ],
   "source": [
    "desconto = int(valor) - 5\n",
    "print(desconto)"
   ]
  },
  {
   "cell_type": "code",
   "execution_count": null,
   "id": "08336cf6-48dc-46a3-a0c6-1f66aa08f963",
   "metadata": {},
   "outputs": [],
   "source": []
  },
  {
   "cell_type": "code",
   "execution_count": null,
   "id": "2572ec68-74cb-4191-b045-b69bb8806647",
   "metadata": {},
   "outputs": [],
   "source": []
  },
  {
   "cell_type": "code",
   "execution_count": null,
   "id": "b75793a1-7c3c-4800-8778-2eb5e4bdac8f",
   "metadata": {},
   "outputs": [],
   "source": []
  },
  {
   "cell_type": "code",
   "execution_count": null,
   "id": "2a09a94c-ad9a-4351-b03e-0bad76e9136a",
   "metadata": {},
   "outputs": [],
   "source": []
  },
  {
   "cell_type": "code",
   "execution_count": null,
   "id": "d52a169b-e7f9-456d-8f22-8e2e9353c2cf",
   "metadata": {},
   "outputs": [],
   "source": []
  }
 ],
 "metadata": {
  "kernelspec": {
   "display_name": "Python 3 (ipykernel)",
   "language": "python",
   "name": "python3"
  },
  "language_info": {
   "codemirror_mode": {
    "name": "ipython",
    "version": 3
   },
   "file_extension": ".py",
   "mimetype": "text/x-python",
   "name": "python",
   "nbconvert_exporter": "python",
   "pygments_lexer": "ipython3",
   "version": "3.11.7"
  }
 },
 "nbformat": 4,
 "nbformat_minor": 5
}
