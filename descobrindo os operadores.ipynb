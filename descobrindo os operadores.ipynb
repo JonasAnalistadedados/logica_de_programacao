{
 "cells": [
  {
   "cell_type": "markdown",
   "id": "7952b370-f197-4ae3-9224-1d6529f27460",
   "metadata": {},
   "source": [
    "# Operadores Aritiméticos"
   ]
  },
  {
   "cell_type": "code",
   "execution_count": 1,
   "id": "320c4e6f-1b8d-40d6-b4b6-2f1458884d6e",
   "metadata": {},
   "outputs": [
    {
     "data": {
      "text/plain": [
       "12"
      ]
     },
     "execution_count": 1,
     "metadata": {},
     "output_type": "execute_result"
    }
   ],
   "source": [
    "# Adição\n",
    "10 + 2"
   ]
  },
  {
   "cell_type": "code",
   "execution_count": 2,
   "id": "9adbf2fa-477f-42a2-ad07-0e8a5ed6b707",
   "metadata": {},
   "outputs": [
    {
     "data": {
      "text/plain": [
       "8"
      ]
     },
     "execution_count": 2,
     "metadata": {},
     "output_type": "execute_result"
    }
   ],
   "source": [
    "# Subtração\n",
    "10 - 2"
   ]
  },
  {
   "cell_type": "code",
   "execution_count": 3,
   "id": "829c570a-4759-4f63-bf63-0f503c6f923c",
   "metadata": {},
   "outputs": [
    {
     "data": {
      "text/plain": [
       "20"
      ]
     },
     "execution_count": 3,
     "metadata": {},
     "output_type": "execute_result"
    }
   ],
   "source": [
    "# Multiplicação\n",
    "10 * 2"
   ]
  },
  {
   "cell_type": "code",
   "execution_count": 5,
   "id": "7f57e3fb-8608-45aa-b0b9-cf1d9f3d7991",
   "metadata": {},
   "outputs": [
    {
     "data": {
      "text/plain": [
       "5.0"
      ]
     },
     "execution_count": 5,
     "metadata": {},
     "output_type": "execute_result"
    }
   ],
   "source": [
    "#  Divisão\n",
    "10 / 2"
   ]
  },
  {
   "cell_type": "code",
   "execution_count": 6,
   "id": "315bd88d-b552-470a-bd39-a1b138a29430",
   "metadata": {},
   "outputs": [
    {
     "data": {
      "text/plain": [
       "5"
      ]
     },
     "execution_count": 6,
     "metadata": {},
     "output_type": "execute_result"
    }
   ],
   "source": [
    "# Divisão inteira\n",
    "10 // 2"
   ]
  },
  {
   "cell_type": "code",
   "execution_count": 7,
   "id": "889aac30-9df4-4eb2-8efd-846343fa4300",
   "metadata": {},
   "outputs": [
    {
     "data": {
      "text/plain": [
       "0"
      ]
     },
     "execution_count": 7,
     "metadata": {},
     "output_type": "execute_result"
    }
   ],
   "source": [
    "# Resto da divisão\n",
    "10 % 2"
   ]
  },
  {
   "cell_type": "code",
   "execution_count": 8,
   "id": "6a797083-7d2e-4520-b208-0228c3b3cc21",
   "metadata": {},
   "outputs": [
    {
     "data": {
      "text/plain": [
       "100"
      ]
     },
     "execution_count": 8,
     "metadata": {},
     "output_type": "execute_result"
    }
   ],
   "source": [
    "# Potenciação\n",
    "10 ** 2"
   ]
  },
  {
   "cell_type": "markdown",
   "id": "fc5e9c31-33a2-426f-8719-8eeb122afe15",
   "metadata": {},
   "source": [
    "# Operadores Relacionais"
   ]
  },
  {
   "cell_type": "code",
   "execution_count": 9,
   "id": "ad82547e-77e5-47dd-9a8b-016084919b3a",
   "metadata": {},
   "outputs": [
    {
     "data": {
      "text/plain": [
       "False"
      ]
     },
     "execution_count": 9,
     "metadata": {},
     "output_type": "execute_result"
    }
   ],
   "source": [
    "# Menor\n",
    "10 < 2"
   ]
  },
  {
   "cell_type": "code",
   "execution_count": 11,
   "id": "53ad1b37-7803-4e98-a4c8-65aad3a5f977",
   "metadata": {},
   "outputs": [
    {
     "data": {
      "text/plain": [
       "False"
      ]
     },
     "execution_count": 11,
     "metadata": {},
     "output_type": "execute_result"
    }
   ],
   "source": [
    "# Maior\n",
    "10 <= 2"
   ]
  },
  {
   "cell_type": "code",
   "execution_count": 12,
   "id": "aee3540f-0e1b-4bfa-957a-44d86734fbc9",
   "metadata": {},
   "outputs": [
    {
     "data": {
      "text/plain": [
       "True"
      ]
     },
     "execution_count": 12,
     "metadata": {},
     "output_type": "execute_result"
    }
   ],
   "source": [
    "# Maior\n",
    "10 > 2"
   ]
  },
  {
   "cell_type": "code",
   "execution_count": 13,
   "id": "1086516e-89db-467e-850b-dad3219a8c2d",
   "metadata": {},
   "outputs": [
    {
     "data": {
      "text/plain": [
       "True"
      ]
     },
     "execution_count": 13,
     "metadata": {},
     "output_type": "execute_result"
    }
   ],
   "source": [
    "# Maior ou igual\n",
    "10 >= 2"
   ]
  },
  {
   "cell_type": "code",
   "execution_count": 15,
   "id": "5c7c91c0-534e-4b2d-b94b-32b1e8f8a67a",
   "metadata": {},
   "outputs": [
    {
     "data": {
      "text/plain": [
       "True"
      ]
     },
     "execution_count": 15,
     "metadata": {},
     "output_type": "execute_result"
    }
   ],
   "source": [
    "# igual\n",
    "10 == 10"
   ]
  },
  {
   "cell_type": "code",
   "execution_count": 16,
   "id": "cfe01153-4046-4fed-9346-486533a10d0a",
   "metadata": {},
   "outputs": [
    {
     "data": {
      "text/plain": [
       "False"
      ]
     },
     "execution_count": 16,
     "metadata": {},
     "output_type": "execute_result"
    }
   ],
   "source": [
    "# Diferente\n",
    "10 != 10"
   ]
  },
  {
   "cell_type": "markdown",
   "id": "01e02aaf-9aef-4e8a-8f94-ea25d92e2e4e",
   "metadata": {},
   "source": [
    "# Operadores Lógicos\n",
    "- And\n",
    "- Or\n",
    "- Not"
   ]
  },
  {
   "cell_type": "markdown",
   "id": "0c1b0450-7866-4d81-9ebb-54e91d7d1e85",
   "metadata": {},
   "source": [
    "## Tabela verdade"
   ]
  },
  {
   "cell_type": "code",
   "execution_count": 17,
   "id": "c818c6e1-7cb6-4396-9d19-466dff5a499a",
   "metadata": {},
   "outputs": [
    {
     "name": "stdout",
     "output_type": "stream",
     "text": [
      "True\n",
      "False\n",
      "False\n",
      "False\n"
     ]
    }
   ],
   "source": [
    "# And = \"E\" ( Se tudo for verdade retorna uma resposta verdade!) ( Se tiver uma condição falsa retorna falso!)\n",
    "print(10 > 2 and 4 < 6)  # V and V = V\n",
    "print(10 > 2 and 4 > 6)  # V and F = F\n",
    "print(10 < 2 and 4 < 6)  # F and V = F\n",
    "print(10 < 2 and 4 > 6)  # F and F = F"
   ]
  },
  {
   "cell_type": "code",
   "execution_count": null,
   "id": "748bd92e-9607-464d-9ca7-75f09f0113f7",
   "metadata": {},
   "outputs": [],
   "source": [
    "s# Or = \"OU\" ( Se uma condição apenas for verdade retorna uma resposta verdade!) (Se duas condiçôes forem falsas retorna Falso!)\n",
    "print(10 > 2 or 4 < 6)  # V or V = V\n",
    "print(10 > 2 or 4 > 6)  # V or F = V\n",
    "print(10 < 2 or 4 < 6)  # F or V = V\n",
    "print(10 < 2 or 4 > 6)  # F or F = F"
   ]
  },
  {
   "cell_type": "code",
   "execution_count": 19,
   "id": "dc1e0653-7272-4293-aeea-ce51d0d3103a",
   "metadata": {},
   "outputs": [
    {
     "data": {
      "text/plain": [
       "False"
      ]
     },
     "execution_count": 19,
     "metadata": {},
     "output_type": "execute_result"
    }
   ],
   "source": [
    "# Not = \"Não\" (converte a resposta \" Se a condição for verdadeira o \"not\" torna ela falsa) (Se a condição for falsa o not retorna verdadeiro)\n",
    "not 10 > 2 # V = F"
   ]
  },
  {
   "cell_type": "code",
   "execution_count": 20,
   "id": "aa14360a-9f8d-460e-b32f-1e60c4eaec0a",
   "metadata": {},
   "outputs": [
    {
     "data": {
      "text/plain": [
       "True"
      ]
     },
     "execution_count": 20,
     "metadata": {},
     "output_type": "execute_result"
    }
   ],
   "source": [
    "not  10 < 2 # F = V"
   ]
  },
  {
   "cell_type": "code",
   "execution_count": null,
   "id": "f0994048-8824-43c1-bf69-9a43b7a9e4b0",
   "metadata": {},
   "outputs": [],
   "source": []
  },
  {
   "cell_type": "code",
   "execution_count": null,
   "id": "ecb30ed7-4b15-43ec-88b9-c092f3ad018a",
   "metadata": {},
   "outputs": [],
   "source": []
  },
  {
   "cell_type": "code",
   "execution_count": null,
   "id": "db7e9dd4-3fd8-45ec-8fe8-8f0742fa2fac",
   "metadata": {},
   "outputs": [],
   "source": []
  },
  {
   "cell_type": "markdown",
   "id": "a712b00e-f6ee-4c41-b05c-939b79045ae2",
   "metadata": {},
   "source": []
  }
 ],
 "metadata": {
  "kernelspec": {
   "display_name": "Python 3 (ipykernel)",
   "language": "python",
   "name": "python3"
  },
  "language_info": {
   "codemirror_mode": {
    "name": "ipython",
    "version": 3
   },
   "file_extension": ".py",
   "mimetype": "text/x-python",
   "name": "python",
   "nbconvert_exporter": "python",
   "pygments_lexer": "ipython3",
   "version": "3.11.7"
  }
 },
 "nbformat": 4,
 "nbformat_minor": 5
}
